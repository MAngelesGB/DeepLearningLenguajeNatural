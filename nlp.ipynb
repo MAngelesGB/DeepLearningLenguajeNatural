{
 "cells": [
  {
   "cell_type": "code",
   "execution_count": 280,
   "metadata": {},
   "outputs": [],
   "source": [
    "#-----> INSTALACION DE TECNOLOGIA A UTILIZAR\n",
    "#%pip install selenium #--\n",
    "#%pip install praw #--\n",
    "#%pip install nltk # --\n",
    "#%pip install spacy\n",
    "#%pip install tensorflow\n",
    "#%pip install matplotlib"
   ]
  },
  {
   "cell_type": "code",
   "execution_count": 281,
   "metadata": {},
   "outputs": [],
   "source": [
    "#----- IMPORTACIONES ---------\n",
    "\n",
    "#Componente de selinum para interactuar con el navegador\n",
    "from selenium import webdriver as web #---\n",
    "#Importacion de la biblioteca Python Reddit API Wrapper\n",
    "#Provee acceso de manera sencilla a la API de Reddit\n",
    "import praw #---\n",
    "import pandas as pd # --\n",
    "import nltk #--\n",
    "import string # --\n",
    "import spacy #--\n",
    "from sklearn.feature_extraction.text import TfidfVectorizer\n",
    "from sklearn.model_selection import train_test_split\n",
    "from sklearn.preprocessing import StandardScaler\n",
    "from sklearn.metrics import classification_report, confusion_matrix\n",
    "from tensorflow.keras.models import Sequential\n",
    "from tensorflow.keras.layers import Dense, Dropout, BatchNormalization\n",
    "from keras.callbacks import EarlyStopping\n",
    "from keras.layers import Input\n",
    "import matplotlib.pyplot as plt\n",
    "import numpy\n",
    "from collections import Counter"
   ]
  },
  {
   "cell_type": "code",
   "execution_count": 282,
   "metadata": {},
   "outputs": [],
   "source": [
    "#---------> RECURSOS SPACY\n",
    "from spacy.cli import download\n",
    "#download(\"es_core_news_sm\")\n",
    "\n",
    "nlp = spacy.load(\"es_core_news_sm\")\n"
   ]
  },
  {
   "cell_type": "code",
   "execution_count": 283,
   "metadata": {},
   "outputs": [],
   "source": [
    "#-------> RECURSOS DE NLTK\n",
    "#nltk.download('punkt')        # Tokenización\n",
    "#nltk.download('stopwords')    # Stopwords\n",
    "#nltk.download('wordnet')      # Lematización\n",
    "#nltk.download('vader_lexicon') #Etiquetado\n"
   ]
  },
  {
   "cell_type": "code",
   "execution_count": 284,
   "metadata": {},
   "outputs": [],
   "source": [
    "#------- IMPORTACIONES NLTK ----------\n",
    "from nltk.corpus import stopwords\n",
    "from nltk.sentiment import SentimentIntensityAnalyzer"
   ]
  },
  {
   "cell_type": "code",
   "execution_count": 285,
   "metadata": {},
   "outputs": [],
   "source": [
    "# ------------- SELENIUM ------------- \n",
    "\n",
    "#Inicializar una sesion en Edge mediente opciones basicas\n",
    "options = web.EdgeOptions()\n",
    "options.add_argument(\"--start-maximized\") #Se ejecuta sin abrir edge\n",
    "options.add_experimental_option(\"detach\", True)\n",
    "#Configura el servicio de selenium --> indica ruta del driver\n",
    "service = web.EdgeService(\"./edgedriver_win64/msedgedriver.exe\") \n",
    "#Especifica la ruta de un subreddit --> Comunidad de nicho en reddit\n",
    "url = \"https://www.reddit.com/r/technology/\"\n",
    "\n",
    "#Inicializa el navegador con el servicio y opciones dadas\n",
    "driver = web.Edge(service=service, options = options)\n",
    "#Abre la pagina web indicada\n",
    "driver.get(url)"
   ]
  },
  {
   "cell_type": "code",
   "execution_count": 286,
   "metadata": {},
   "outputs": [],
   "source": [
    "# ------------ CLIENTE DE REDDIT ------------\n",
    "\n",
    "#Credenciales para consumir la API de reddit\n",
    "#Configuracion de un cliente de reddit --> utiliza la bibliteca PRAW\n",
    "reddit = praw.Reddit(\n",
    "  client_id = \"080XrJH4Q_dMV39t2FWsrQ\", #\n",
    "  client_secret = \"UwMgiM1oJufrxgBB_OynJA_b0hoRvQ\",\n",
    "  user_agent = \"AnyApp/1.0 by Angel\"\n",
    ")"
   ]
  },
  {
   "cell_type": "code",
   "execution_count": 287,
   "metadata": {},
   "outputs": [],
   "source": [
    "# ----------- ACCESO AL SUBREDDIT ---------\n",
    "\n",
    "#Accede al subreddit tecnhology\n",
    "subreddit = reddit.subreddit(\"technology\") \n",
    "#Obtiene los dos post mas votados de la ultima semana. \n",
    "top_posts = subreddit.top(time_filter=\"week\", limit = 3) "
   ]
  },
  {
   "cell_type": "code",
   "execution_count": 288,
   "metadata": {},
   "outputs": [],
   "source": [
    "# ----------- CREAR DATAFRAME ----------\n",
    "\n",
    "#Array para guardar comentarios\n",
    "comments_list  = []\n",
    "\n",
    "for post in top_posts: # Itera sobre los post indicados\n",
    "  submission = reddit.submission(id=post.id)  # Acceder al post por ID\n",
    "  submission.comments.replace_more(limit=None)  # Expande todos los comentarios\n",
    "  for comment in submission.comments.list(): #Accede a los comentarios del post\n",
    "    comments_list.append(comment.body) #Guarda los comentarios en un array\n",
    "\n",
    "#Crea el DataFrame con los comentarios obtenidos con la columna Comments\n",
    "df = pd.DataFrame(comments_list, columns=[\"Comment\"])"
   ]
  },
  {
   "cell_type": "code",
   "execution_count": 289,
   "metadata": {},
   "outputs": [],
   "source": [
    "#------ Cierra sesion del navegador\n",
    "driver.quit()"
   ]
  },
  {
   "cell_type": "code",
   "execution_count": 290,
   "metadata": {},
   "outputs": [],
   "source": [
    "# -------------- PROCESAMIENTO DE TEXTO ------------- \n",
    "\n",
    "stop_words = set(stopwords.words('spanish'))\n",
    "\n",
    "# Realiza un proceso de tokenizacion\n",
    "#Los resultados los agrega en una nueva columna --> Tokens\n",
    "df[\"Tokens\"] = df [\"Comment\"].apply(\n",
    "  lambda x: [\n",
    "              token.lemma_  # Obtén el lema del token\n",
    "              for token in nlp(x.lower())  # Procesa el texto con spaCy\n",
    "              if token.text not in string.punctuation # retira signos de puntuacion\n",
    "              and token.text not in stop_words  # Filtra stopwords\n",
    "              and not token.is_space  # Ignora espacios en blanco\n",
    "            ] \n",
    ")"
   ]
  },
  {
   "cell_type": "code",
   "execution_count": 291,
   "metadata": {},
   "outputs": [],
   "source": [
    "#------ TOKENS A TEXTO PLANO -------\n",
    "\n",
    "df[\"Text_Processed\"] = df[\"Tokens\"].apply(lambda tokens:\" \".join(tokens))\n",
    "# ['Hola','mundo'] ---> \"Hola mundo\""
   ]
  },
  {
   "cell_type": "code",
   "execution_count": 292,
   "metadata": {},
   "outputs": [],
   "source": [
    "#----- Vectorización de los datos con TF-IDF\n",
    "\n",
    "#Convierte el conjunto de texto en una matriz de caracteristicas numericas\n",
    "tfidf = TfidfVectorizer(max_features=5000)  # Usa 5000 características como límite\n",
    "X = tfidf.fit_transform(df[\"Text_Processed\"]).toarray()  # Vectoriza el texto\n"
   ]
  },
  {
   "cell_type": "code",
   "execution_count": 293,
   "metadata": {},
   "outputs": [],
   "source": [
    "#-------> Etiquetado con VADER --> NLTK Modelo preentrenado\n",
    "#Inicializa el analizador\n",
    "sia = SentimentIntensityAnalyzer()\n",
    "\n",
    "#Funcion ---> Asignacion de etiquetas basadas en sentimientos\n",
    "def assign_label(comment):\n",
    "  sentiment_score = sia.polarity_scores(comment)['compound']\n",
    "  return 1 if sentiment_score > 0 else 0  # Positivo si el sentimiento es mayor a 0, negativo si no\n",
    "# {'neg': 0.0, 'neu': 0.34, 'pos': 0.66, 'compound': 0.802}\n",
    "\n",
    "#Coloca una columna de etiquetado al dataframe --> Realiza la clasificacion\n",
    "df[\"Label\"] = df[\"Comment\"].apply(assign_label)\n"
   ]
  },
  {
   "cell_type": "code",
   "execution_count": 294,
   "metadata": {},
   "outputs": [],
   "source": [
    "# ------- Division entre datos de entrenamiento y prueba\n",
    "X_train, X_test, y_train, y_test = train_test_split(\n",
    "  X,  # Representacion TF-IDF de los comentarios\n",
    "  df[\"Label\"],  # Etiqueas asociadas a cada comentario de la matriz\n",
    "  test_size=0.2, #20% es del conjunto de prueba\n",
    "  random_state=42, #Semilla aleatoria para que la división sea reproducible\n",
    "  stratify=df[\"Label\"]  # Asegura proporción balanceada entre conjuntos\n",
    ")"
   ]
  },
  {
   "cell_type": "code",
   "execution_count": 295,
   "metadata": {},
   "outputs": [],
   "source": [
    "# ------------ Conversion serie PANDAS --> NUMPY\n",
    "if isinstance(y_train, pd.Series):\n",
    "  y_train = y_train.to_numpy()\n",
    "\n",
    "# ----- Formato compatible para el entrenamiento y evaluacion del modelo"
   ]
  },
  {
   "cell_type": "code",
   "execution_count": 296,
   "metadata": {},
   "outputs": [],
   "source": [
    "#-------- Calcular proporciones de clase -- evista desvlances de clase\n",
    "\n",
    "# Cuenta cantidad de ocurrencias \n",
    "class_counts = Counter(y_train) \n",
    "\n",
    "# Total de ejemplos\n",
    "total_samples = len(y_train) #Determina la proporción de cada clase \n",
    "\n",
    "# Calcular los pesos de las clases\n",
    "class_weights = { #Diccionario\n",
    "    cls: total_samples / (2 * count) \n",
    "    for cls, count in class_counts.items()\n",
    "}\n",
    "\n",
    "#Indica al modelo que le dé más imporrancia a las clases con menos datos. "
   ]
  },
  {
   "cell_type": "code",
   "execution_count": 297,
   "metadata": {},
   "outputs": [],
   "source": [
    "#--------- Escala de datos\n",
    "\n",
    "#Coloca los datos en el mismo rango \n",
    "\n",
    "scaler = StandardScaler()\n",
    "\n",
    "# Escalar datos de entrenamiento y prueba\n",
    "X_train = scaler.fit_transform(X_train)  # Ajusta el escalador y transforma los datos de entrenamiento\n",
    "X_test = scaler.transform(X_test)  # Transforma los datos de prueba con el escalador ajustado"
   ]
  },
  {
   "cell_type": "code",
   "execution_count": 298,
   "metadata": {},
   "outputs": [],
   "source": [
    "#------ CONSTRUCCION DEL MODELO\n",
    "#Define  el modelo\n",
    "#relu = PERMITE APRENDER RELACIONES COMPLEJAS --> No lineal\n",
    "model = Sequential([ #Las capas seran aplicadas una tras otra\n",
    "  Input(shape=(X_train.shape[1],)), #Numero de columnas de datos de entrada\n",
    "    Dense(32, activation=\"relu\"), #Capa conectada con 32 neuronas \n",
    "    BatchNormalization(), #Normaliza las salidas\n",
    "    Dropout(0.8), #Prevenir sobre ajuste - desactiva 80% de las neuronas\n",
    "    Dense(16, activation=\"relu\"), #Capa con 16 neuronas\n",
    "    BatchNormalization(),\n",
    "    Dropout(0.8),\n",
    "    Dense(1, activation=\"sigmoid\") #Capa de salida con 1 neurona\n",
    "    #Sigmoid -> convierte la salida entre 0 y 1 \n",
    "])\n",
    "\n",
    "#1er capa = Aprende caracteristicas simples\n",
    "#2da capa = capturan relaciones mas complejas \n",
    "\n",
    "# Compilar el modelo\n",
    "model.compile(optimizer=\"adam\", loss=\"binary_crossentropy\", metrics=[\"accuracy\"])"
   ]
  },
  {
   "cell_type": "code",
   "execution_count": 299,
   "metadata": {},
   "outputs": [],
   "source": [
    "# -------> EARLY STOPPING\n",
    "# 2 epocas limite. Si despues de dos no mejora, se detiene\n",
    "early_stopping = EarlyStopping(monitor=\"val_loss\", patience=2, restore_best_weights=True)\n",
    "# True -- restore: Toma el estado en el que obtuvo mejor rendimiento\n",
    "#Durante el entramiento lo detiene si deja de mejorar despues de un"
   ]
  },
  {
   "cell_type": "code",
   "execution_count": 300,
   "metadata": {},
   "outputs": [
    {
     "name": "stdout",
     "output_type": "stream",
     "text": [
      "Epoch 1/20\n",
      "\u001b[1m121/121\u001b[0m \u001b[32m━━━━━━━━━━━━━━━━━━━━\u001b[0m\u001b[37m\u001b[0m \u001b[1m4s\u001b[0m 6ms/step - accuracy: 0.4826 - loss: 1.1539 - val_accuracy: 0.5166 - val_loss: 0.7125\n",
      "Epoch 2/20\n",
      "\u001b[1m121/121\u001b[0m \u001b[32m━━━━━━━━━━━━━━━━━━━━\u001b[0m\u001b[37m\u001b[0m \u001b[1m0s\u001b[0m 4ms/step - accuracy: 0.5055 - loss: 0.9980 - val_accuracy: 0.5414 - val_loss: 0.6913\n",
      "Epoch 3/20\n",
      "\u001b[1m121/121\u001b[0m \u001b[32m━━━━━━━━━━━━━━━━━━━━\u001b[0m\u001b[37m\u001b[0m \u001b[1m0s\u001b[0m 4ms/step - accuracy: 0.5348 - loss: 0.8581 - val_accuracy: 0.5652 - val_loss: 0.6889\n",
      "Epoch 4/20\n",
      "\u001b[1m121/121\u001b[0m \u001b[32m━━━━━━━━━━━━━━━━━━━━\u001b[0m\u001b[37m\u001b[0m \u001b[1m0s\u001b[0m 3ms/step - accuracy: 0.5415 - loss: 0.8092 - val_accuracy: 0.5787 - val_loss: 0.6830\n",
      "Epoch 5/20\n",
      "\u001b[1m121/121\u001b[0m \u001b[32m━━━━━━━━━━━━━━━━━━━━\u001b[0m\u001b[37m\u001b[0m \u001b[1m0s\u001b[0m 3ms/step - accuracy: 0.5503 - loss: 0.7416 - val_accuracy: 0.5911 - val_loss: 0.6780\n",
      "Epoch 6/20\n",
      "\u001b[1m121/121\u001b[0m \u001b[32m━━━━━━━━━━━━━━━━━━━━\u001b[0m\u001b[37m\u001b[0m \u001b[1m1s\u001b[0m 4ms/step - accuracy: 0.5547 - loss: 0.7097 - val_accuracy: 0.6097 - val_loss: 0.6769\n",
      "Epoch 7/20\n",
      "\u001b[1m121/121\u001b[0m \u001b[32m━━━━━━━━━━━━━━━━━━━━\u001b[0m\u001b[37m\u001b[0m \u001b[1m0s\u001b[0m 4ms/step - accuracy: 0.5772 - loss: 0.7003 - val_accuracy: 0.6025 - val_loss: 0.6756\n",
      "Epoch 8/20\n",
      "\u001b[1m121/121\u001b[0m \u001b[32m━━━━━━━━━━━━━━━━━━━━\u001b[0m\u001b[37m\u001b[0m \u001b[1m0s\u001b[0m 4ms/step - accuracy: 0.5719 - loss: 0.6734 - val_accuracy: 0.6263 - val_loss: 0.6712\n",
      "Epoch 9/20\n",
      "\u001b[1m121/121\u001b[0m \u001b[32m━━━━━━━━━━━━━━━━━━━━\u001b[0m\u001b[37m\u001b[0m \u001b[1m1s\u001b[0m 4ms/step - accuracy: 0.6094 - loss: 0.6622 - val_accuracy: 0.6449 - val_loss: 0.6688\n",
      "Epoch 10/20\n",
      "\u001b[1m121/121\u001b[0m \u001b[32m━━━━━━━━━━━━━━━━━━━━\u001b[0m\u001b[37m\u001b[0m \u001b[1m1s\u001b[0m 4ms/step - accuracy: 0.6015 - loss: 0.6600 - val_accuracy: 0.6418 - val_loss: 0.6665\n",
      "Epoch 11/20\n",
      "\u001b[1m121/121\u001b[0m \u001b[32m━━━━━━━━━━━━━━━━━━━━\u001b[0m\u001b[37m\u001b[0m \u001b[1m0s\u001b[0m 3ms/step - accuracy: 0.6209 - loss: 0.6537 - val_accuracy: 0.6542 - val_loss: 0.6613\n",
      "Epoch 12/20\n",
      "\u001b[1m121/121\u001b[0m \u001b[32m━━━━━━━━━━━━━━━━━━━━\u001b[0m\u001b[37m\u001b[0m \u001b[1m0s\u001b[0m 4ms/step - accuracy: 0.6346 - loss: 0.6424 - val_accuracy: 0.6656 - val_loss: 0.6561\n",
      "Epoch 13/20\n",
      "\u001b[1m121/121\u001b[0m \u001b[32m━━━━━━━━━━━━━━━━━━━━\u001b[0m\u001b[37m\u001b[0m \u001b[1m0s\u001b[0m 4ms/step - accuracy: 0.6529 - loss: 0.6227 - val_accuracy: 0.6718 - val_loss: 0.6482\n",
      "Epoch 14/20\n",
      "\u001b[1m121/121\u001b[0m \u001b[32m━━━━━━━━━━━━━━━━━━━━\u001b[0m\u001b[37m\u001b[0m \u001b[1m0s\u001b[0m 4ms/step - accuracy: 0.6618 - loss: 0.6125 - val_accuracy: 0.6791 - val_loss: 0.6407\n",
      "Epoch 15/20\n",
      "\u001b[1m121/121\u001b[0m \u001b[32m━━━━━━━━━━━━━━━━━━━━\u001b[0m\u001b[37m\u001b[0m \u001b[1m0s\u001b[0m 4ms/step - accuracy: 0.6709 - loss: 0.6070 - val_accuracy: 0.6967 - val_loss: 0.6320\n",
      "Epoch 16/20\n",
      "\u001b[1m121/121\u001b[0m \u001b[32m━━━━━━━━━━━━━━━━━━━━\u001b[0m\u001b[37m\u001b[0m \u001b[1m0s\u001b[0m 4ms/step - accuracy: 0.6858 - loss: 0.5861 - val_accuracy: 0.6967 - val_loss: 0.6198\n",
      "Epoch 17/20\n",
      "\u001b[1m121/121\u001b[0m \u001b[32m━━━━━━━━━━━━━━━━━━━━\u001b[0m\u001b[37m\u001b[0m \u001b[1m0s\u001b[0m 4ms/step - accuracy: 0.6881 - loss: 0.5779 - val_accuracy: 0.6988 - val_loss: 0.6096\n",
      "Epoch 18/20\n",
      "\u001b[1m121/121\u001b[0m \u001b[32m━━━━━━━━━━━━━━━━━━━━\u001b[0m\u001b[37m\u001b[0m \u001b[1m0s\u001b[0m 3ms/step - accuracy: 0.7284 - loss: 0.5527 - val_accuracy: 0.7101 - val_loss: 0.5998\n",
      "Epoch 19/20\n",
      "\u001b[1m121/121\u001b[0m \u001b[32m━━━━━━━━━━━━━━━━━━━━\u001b[0m\u001b[37m\u001b[0m \u001b[1m0s\u001b[0m 3ms/step - accuracy: 0.7070 - loss: 0.5562 - val_accuracy: 0.7112 - val_loss: 0.5888\n",
      "Epoch 20/20\n",
      "\u001b[1m121/121\u001b[0m \u001b[32m━━━━━━━━━━━━━━━━━━━━\u001b[0m\u001b[37m\u001b[0m \u001b[1m0s\u001b[0m 3ms/step - accuracy: 0.7365 - loss: 0.5235 - val_accuracy: 0.7153 - val_loss: 0.5807\n"
     ]
    }
   ],
   "source": [
    "#------------- Entrenamiento del modelo\n",
    "\n",
    "# Entrenar el modelo\n",
    "history = model.fit(\n",
    "  X_train, y_train,  # Datos de entrenamiento\n",
    "  #Evaluan el desempeño del modelo despues de la epoca\n",
    "  validation_split=0.2,  # Usar una fracción de entrenamiento para validación\n",
    "  epochs=20,  # Numero de iteraciones completas sobre los datos\n",
    "  batch_size=32,  # Numero de muestras por lote\n",
    "  class_weight=class_weights, #Ajusta importancia dada para los desvalances\n",
    "  callbacks=[early_stopping] #Detiene el modelo de manera automatica si deja de mejorar\n",
    ")"
   ]
  },
  {
   "cell_type": "code",
   "execution_count": 301,
   "metadata": {},
   "outputs": [
    {
     "name": "stdout",
     "output_type": "stream",
     "text": [
      "\u001b[1m38/38\u001b[0m \u001b[32m━━━━━━━━━━━━━━━━━━━━\u001b[0m\u001b[37m\u001b[0m \u001b[1m0s\u001b[0m 4ms/step\n",
      "Reporte de clasificación:\n",
      "              precision    recall  f1-score   support\n",
      "\n",
      "           0       0.85      0.47      0.60       696\n",
      "           1       0.55      0.88      0.68       511\n",
      "\n",
      "    accuracy                           0.64      1207\n",
      "   macro avg       0.70      0.68      0.64      1207\n",
      "weighted avg       0.72      0.64      0.63      1207\n",
      "\n",
      "Matriz de confusión:\n",
      "[[324 372]\n",
      " [ 59 452]]\n"
     ]
    }
   ],
   "source": [
    "#---------------- Predicciones en el conjunto de prueba\n",
    "\n",
    "#Genera predicciones del modelo de prueba\n",
    "y_pred = (model.predict(X_test) > 0.4).astype(\"int32\")\n",
    "# Mayor a 0.4 (positivo) menor (negativo) --> comentarios\n",
    "\n",
    "# Imprimir el reporte de clasificación\n",
    "print(\"Reporte de clasificación:\")\n",
    "print(classification_report(y_test, y_pred)) #Genera infome con metricas de desempeño\n",
    "\n",
    "#Presicion ---> Predicciones positivas correctas\n",
    "#Recall ----> Ejemplos positivos identificados correctamente\n",
    "\n",
    "#F1 Score ---> Promedio entre pesicion y recall\n",
    "#support ---> Numero total de ejemplos reales en cada clase\n",
    "\n",
    "#Accuracy ---> precision global del modelo\n",
    "#Macro ---> Promedio entre las metricas de todas las clases (sin tamaño)\n",
    "#Wight ---> promedio ponderado tomando en cuenta el tamaño de la clase\n",
    "\n",
    "# Imprimir la matriz de confusión\n",
    "#Muestra como se distributen las prediciones del modelo\n",
    "\n",
    "#[TP | FP] #Correcto positivo | incorrecto positivo\n",
    "#[FN | TN] #Incorrecto negativo | Correcto negativo\n",
    "print(\"Matriz de confusión:\")\n",
    "print(confusion_matrix(y_test, y_pred))"
   ]
  },
  {
   "cell_type": "markdown",
   "metadata": {},
   "source": [
    "**Concluclision general**\n",
    "\n",
    "El modelo logró una precisión global del 66%, indicando que predijo correctamente el 66% de los ejemplos en el conjunto de prueba. "
   ]
  },
  {
   "cell_type": "code",
   "execution_count": 302,
   "metadata": {},
   "outputs": [
    {
     "name": "stdout",
     "output_type": "stream",
     "text": [
      "\u001b[1m38/38\u001b[0m \u001b[32m━━━━━━━━━━━━━━━━━━━━\u001b[0m\u001b[37m\u001b[0m \u001b[1m0s\u001b[0m 2ms/step - accuracy: 0.6625 - loss: 0.6129\n",
      "Pérdida en prueba: 0.6118\n",
      "Precisión en prueba: 0.6603\n"
     ]
    }
   ],
   "source": [
    "#---------- EVALUACION DEL MODELO CON CONJUNTO DE PRUEBA\n",
    "# Convertir y_test a un array NumPy si es una serie de pandas \n",
    "#Asegura compatibilidad entre datos\n",
    "if isinstance(y_test, pd.Series):\n",
    "    y_test = y_test.to_numpy()\n",
    "\n",
    "# Evaluar el modelo\n",
    "#Calcula la perdida, y le presicion del modelo en el conjunto de prueba\n",
    "test_loss, test_accuracy = model.evaluate(X_test, y_test)\n",
    "print(f\"Pérdida en prueba: {test_loss:.4f}\") #Error promedio en los datos\n",
    "print(f\"Precisión en prueba: {test_accuracy:.4f}\") # Predicciones correctas"
   ]
  },
  {
   "cell_type": "code",
   "execution_count": 303,
   "metadata": {},
   "outputs": [
    {
     "data": {
      "image/png": "[encoded data removed]",
      "text/plain": [
       "<Figure size 640x480 with 1 Axes>"
      ]
     },
     "metadata": {},
     "output_type": "display_data"
    }
   ],
   "source": [
    "# ------- GRAFICA DE LOS RESULTADOS\n",
    "\n",
    "# Graficar precisión\n",
    "plt.plot(history.history['accuracy'], label='Entrenamiento')\n",
    "plt.plot(history.history['val_accuracy'], label='Validación')\n",
    "plt.title('Precisión del modelo')\n",
    "plt.xlabel('Épocas')\n",
    "plt.ylabel('Precisión')\n",
    "plt.legend()\n",
    "plt.show()\n",
    "\n"
   ]
  },
  {
   "cell_type": "code",
   "execution_count": 304,
   "metadata": {},
   "outputs": [
    {
     "data": {
      "image/png": "[encoded data removed]",
      "text/plain": [
       "<Figure size 640x480 with 1 Axes>"
      ]
     },
     "metadata": {},
     "output_type": "display_data"
    }
   ],
   "source": [
    "# Graficar pérdida\n",
    "plt.plot(history.history['loss'], label='Entrenamiento')\n",
    "plt.plot(history.history['val_loss'], label='Validación')\n",
    "plt.title('Pérdida del modelo')\n",
    "plt.xlabel('Épocas')\n",
    "plt.ylabel('Pérdida')\n",
    "plt.legend()\n",
    "plt.show()"
   ]
  }
 ],
 "metadata": {
  "kernelspec": {
   "display_name": "base",
   "language": "python",
   "name": "python3"
  },
  "language_info": {
   "codemirror_mode": {
    "name": "ipython",
    "version": 3
   },
   "file_extension": ".py",
   "mimetype": "text/x-python",
   "name": "python",
   "nbconvert_exporter": "python",
   "pygments_lexer": "ipython3",
   "version": "3.12.3"
  }
 },
 "nbformat": 4,
 "nbformat_minor": 2
}
